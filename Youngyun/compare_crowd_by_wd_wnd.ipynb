{
 "cells": [
  {
   "cell_type": "code",
   "execution_count": 6,
   "metadata": {},
   "outputs": [],
   "source": [
    "import pandas as pd\n",
    "import matplotlib.pyplot as plt\n",
    "\n",
    "#글씨 지정\n",
    "plt.rcParams['font.family'] = 'Malgun Gothic'"
   ]
  },
  {
   "cell_type": "code",
   "execution_count": 7,
   "metadata": {},
   "outputs": [
    {
     "data": {
      "text/html": [
       "<div>\n",
       "<style scoped>\n",
       "    .dataframe tbody tr th:only-of-type {\n",
       "        vertical-align: middle;\n",
       "    }\n",
       "\n",
       "    .dataframe tbody tr th {\n",
       "        vertical-align: top;\n",
       "    }\n",
       "\n",
       "    .dataframe thead th {\n",
       "        text-align: right;\n",
       "    }\n",
       "</style>\n",
       "<table border=\"1\" class=\"dataframe\">\n",
       "  <thead>\n",
       "    <tr style=\"text-align: right;\">\n",
       "      <th></th>\n",
       "      <th>날짜</th>\n",
       "      <th>요일</th>\n",
       "      <th>홈</th>\n",
       "      <th>방문</th>\n",
       "      <th>구장</th>\n",
       "      <th>관중수</th>\n",
       "    </tr>\n",
       "  </thead>\n",
       "  <tbody>\n",
       "    <tr>\n",
       "      <th>0</th>\n",
       "      <td>2024/03/23</td>\n",
       "      <td>토</td>\n",
       "      <td>LG</td>\n",
       "      <td>한화</td>\n",
       "      <td>잠실</td>\n",
       "      <td>23,750</td>\n",
       "    </tr>\n",
       "    <tr>\n",
       "      <th>1</th>\n",
       "      <td>2024/03/23</td>\n",
       "      <td>토</td>\n",
       "      <td>SSG</td>\n",
       "      <td>롯데</td>\n",
       "      <td>문학</td>\n",
       "      <td>23,000</td>\n",
       "    </tr>\n",
       "    <tr>\n",
       "      <th>2</th>\n",
       "      <td>2024/03/23</td>\n",
       "      <td>토</td>\n",
       "      <td>NC</td>\n",
       "      <td>두산</td>\n",
       "      <td>창원</td>\n",
       "      <td>17,891</td>\n",
       "    </tr>\n",
       "    <tr>\n",
       "      <th>3</th>\n",
       "      <td>2024/03/23</td>\n",
       "      <td>토</td>\n",
       "      <td>KT</td>\n",
       "      <td>삼성</td>\n",
       "      <td>수원</td>\n",
       "      <td>18,700</td>\n",
       "    </tr>\n",
       "    <tr>\n",
       "      <th>4</th>\n",
       "      <td>2024/03/23</td>\n",
       "      <td>토</td>\n",
       "      <td>KIA</td>\n",
       "      <td>키움</td>\n",
       "      <td>광주</td>\n",
       "      <td>20,500</td>\n",
       "    </tr>\n",
       "    <tr>\n",
       "      <th>...</th>\n",
       "      <td>...</td>\n",
       "      <td>...</td>\n",
       "      <td>...</td>\n",
       "      <td>...</td>\n",
       "      <td>...</td>\n",
       "      <td>...</td>\n",
       "    </tr>\n",
       "    <tr>\n",
       "      <th>568</th>\n",
       "      <td>2024/08/18</td>\n",
       "      <td>일</td>\n",
       "      <td>SSG</td>\n",
       "      <td>한화</td>\n",
       "      <td>문학</td>\n",
       "      <td>22,545</td>\n",
       "    </tr>\n",
       "    <tr>\n",
       "      <th>569</th>\n",
       "      <td>2024/08/18</td>\n",
       "      <td>일</td>\n",
       "      <td>LG</td>\n",
       "      <td>KIA</td>\n",
       "      <td>잠실</td>\n",
       "      <td>23,750</td>\n",
       "    </tr>\n",
       "    <tr>\n",
       "      <th>570</th>\n",
       "      <td>2024/08/18</td>\n",
       "      <td>일</td>\n",
       "      <td>KT</td>\n",
       "      <td>두산</td>\n",
       "      <td>수원</td>\n",
       "      <td>12,164</td>\n",
       "    </tr>\n",
       "    <tr>\n",
       "      <th>571</th>\n",
       "      <td>2024/08/18</td>\n",
       "      <td>일</td>\n",
       "      <td>NC</td>\n",
       "      <td>삼성</td>\n",
       "      <td>창원</td>\n",
       "      <td>12,328</td>\n",
       "    </tr>\n",
       "    <tr>\n",
       "      <th>572</th>\n",
       "      <td>2024/08/18</td>\n",
       "      <td>일</td>\n",
       "      <td>롯데</td>\n",
       "      <td>키움</td>\n",
       "      <td>사직</td>\n",
       "      <td>20,740</td>\n",
       "    </tr>\n",
       "  </tbody>\n",
       "</table>\n",
       "<p>573 rows × 6 columns</p>\n",
       "</div>"
      ],
      "text/plain": [
       "             날짜 요일    홈   방문  구장     관중수\n",
       "0    2024/03/23  토   LG   한화  잠실  23,750\n",
       "1    2024/03/23  토  SSG   롯데  문학  23,000\n",
       "2    2024/03/23  토   NC   두산  창원  17,891\n",
       "3    2024/03/23  토   KT   삼성  수원  18,700\n",
       "4    2024/03/23  토  KIA   키움  광주  20,500\n",
       "..          ... ..  ...  ...  ..     ...\n",
       "568  2024/08/18  일  SSG   한화  문학  22,545\n",
       "569  2024/08/18  일   LG  KIA  잠실  23,750\n",
       "570  2024/08/18  일   KT   두산  수원  12,164\n",
       "571  2024/08/18  일   NC   삼성  창원  12,328\n",
       "572  2024/08/18  일   롯데   키움  사직  20,740\n",
       "\n",
       "[573 rows x 6 columns]"
      ]
     },
     "execution_count": 7,
     "metadata": {},
     "output_type": "execute_result"
    }
   ],
   "source": [
    "import pandas as pd\n",
    "\n",
    "df = pd.read_csv('../Youri/daily_crowd_data.csv')\n",
    "df"
   ]
  },
  {
   "cell_type": "code",
   "execution_count": 8,
   "metadata": {},
   "outputs": [
    {
     "data": {
      "text/plain": [
       "str"
      ]
     },
     "execution_count": 8,
     "metadata": {},
     "output_type": "execute_result"
    }
   ],
   "source": [
    "type('요일')"
   ]
  },
  {
   "cell_type": "code",
   "execution_count": 15,
   "metadata": {},
   "outputs": [
    {
     "name": "stdout",
     "output_type": "stream",
     "text": [
      "             날짜 요일    홈   방문  구장     관중수\n",
      "0    2024/03/23  토   LG   한화  잠실  23,750\n",
      "5    2024/03/24  일   LG   한화  잠실  23,750\n",
      "28   2024/03/30  토   한화   KT  대전  12,000\n",
      "33   2024/03/31  일   한화   KT  대전  12,000\n",
      "55   2024/04/06  토   키움   한화  고척  16,000\n",
      "60   2024/04/07  일   키움   한화  고척  16,000\n",
      "85   2024/04/13  토   한화  KIA  대전  12,000\n",
      "90   2024/04/14  일   한화  KIA  대전  12,000\n",
      "115  2024/04/20  토   한화   삼성  대전  12,000\n",
      "121  2024/04/21  일   한화   삼성  대전  12,000\n",
      "146  2024/04/27  토   한화   두산  대전  12,000\n",
      "151  2024/04/28  일   한화   두산  대전  12,000\n",
      "173  2024/05/04  토  KIA   한화  광주  20,500\n",
      "197  2024/05/11  토   한화   키움  대전  12,000\n",
      "204  2024/05/12  일   한화   키움  대전  12,000\n",
      "222  2024/05/18  토   삼성   한화  대구  24,000\n",
      "227  2024/05/19  일   삼성   한화  대구  24,000\n",
      "252  2024/05/25  토  SSG   한화  문학  23,000\n",
      "280  2024/06/01  토   삼성   한화  대구  24,000\n",
      "285  2024/06/02  일   삼성   한화  대구  24,000\n",
      "312  2024/06/08  토   한화   NC  대전  12,000\n",
      "316  2024/06/09  일   한화   NC  대전  12,000\n",
      "343  2024/06/15  토   한화  SSG  대전  12,000\n",
      "348  2024/06/16  일   한화  SSG  대전  12,000\n",
      "372  2024/06/23  일  KIA   한화  광주  19,085\n",
      "373  2024/06/23  일  KIA   한화  광주  18,860\n",
      "437  2024/07/13  토   한화   LG  대전  12,000\n",
      "441  2024/07/14  일   한화   LG  대전  12,000\n",
      "460  2024/07/20  토   한화  KIA  대전  12,000\n",
      "462  2024/07/21  일   한화  KIA  대전  12,000\n",
      "487  2024/07/28  일   LG   한화  잠실  23,750\n",
      "511  2024/08/03  토   한화  KIA  대전  12,000\n",
      "539  2024/08/10  토   한화   키움  대전  12,000\n",
      "544  2024/08/11  일   한화   키움  대전  12,000\n",
      "563  2024/08/17  토  SSG   한화  문학  23,000\n",
      "568  2024/08/18  일  SSG   한화  문학  22,545\n"
     ]
    }
   ],
   "source": [
    "# '요일'이 토요일 또는 일요일이거나\n",
    "# '홈' 또는 '방문'이 '한화'인 경우를 필터링\n",
    "weekend_crowd = df[\n",
    "    ((df['요일'] == '토') | (df['요일'] == '일')) &\n",
    "    ((df['홈'] == '한화') | (df['방문'] == '한화'))\n",
    "]\n",
    "\n",
    "print(weekend_crowd)\n"
   ]
  },
  {
   "cell_type": "code",
   "execution_count": 25,
   "metadata": {},
   "outputs": [
    {
     "data": {
      "text/html": [
       "<div>\n",
       "<style scoped>\n",
       "    .dataframe tbody tr th:only-of-type {\n",
       "        vertical-align: middle;\n",
       "    }\n",
       "\n",
       "    .dataframe tbody tr th {\n",
       "        vertical-align: top;\n",
       "    }\n",
       "\n",
       "    .dataframe thead th {\n",
       "        text-align: right;\n",
       "    }\n",
       "</style>\n",
       "<table border=\"1\" class=\"dataframe\">\n",
       "  <thead>\n",
       "    <tr style=\"text-align: right;\">\n",
       "      <th></th>\n",
       "      <th>날짜</th>\n",
       "      <th>요일</th>\n",
       "      <th>홈</th>\n",
       "      <th>방문</th>\n",
       "      <th>구장</th>\n",
       "      <th>관중수</th>\n",
       "    </tr>\n",
       "  </thead>\n",
       "  <tbody>\n",
       "    <tr>\n",
       "      <th>9</th>\n",
       "      <td>2024/03/26</td>\n",
       "      <td>화</td>\n",
       "      <td>SSG</td>\n",
       "      <td>한화</td>\n",
       "      <td>문학</td>\n",
       "      <td>10,541</td>\n",
       "    </tr>\n",
       "    <tr>\n",
       "      <th>14</th>\n",
       "      <td>2024/03/27</td>\n",
       "      <td>수</td>\n",
       "      <td>SSG</td>\n",
       "      <td>한화</td>\n",
       "      <td>문학</td>\n",
       "      <td>11,005</td>\n",
       "    </tr>\n",
       "    <tr>\n",
       "      <th>19</th>\n",
       "      <td>2024/03/28</td>\n",
       "      <td>목</td>\n",
       "      <td>SSG</td>\n",
       "      <td>한화</td>\n",
       "      <td>문학</td>\n",
       "      <td>11,755</td>\n",
       "    </tr>\n",
       "    <tr>\n",
       "      <th>23</th>\n",
       "      <td>2024/03/29</td>\n",
       "      <td>금</td>\n",
       "      <td>한화</td>\n",
       "      <td>KT</td>\n",
       "      <td>대전</td>\n",
       "      <td>12,000</td>\n",
       "    </tr>\n",
       "    <tr>\n",
       "      <th>38</th>\n",
       "      <td>2024/04/02</td>\n",
       "      <td>화</td>\n",
       "      <td>한화</td>\n",
       "      <td>롯데</td>\n",
       "      <td>대전</td>\n",
       "      <td>12,000</td>\n",
       "    </tr>\n",
       "    <tr>\n",
       "      <th>...</th>\n",
       "      <td>...</td>\n",
       "      <td>...</td>\n",
       "      <td>...</td>\n",
       "      <td>...</td>\n",
       "      <td>...</td>\n",
       "      <td>...</td>\n",
       "    </tr>\n",
       "    <tr>\n",
       "      <th>535</th>\n",
       "      <td>2024/08/09</td>\n",
       "      <td>금</td>\n",
       "      <td>한화</td>\n",
       "      <td>키움</td>\n",
       "      <td>대전</td>\n",
       "      <td>11,302</td>\n",
       "    </tr>\n",
       "    <tr>\n",
       "      <th>547</th>\n",
       "      <td>2024/08/13</td>\n",
       "      <td>화</td>\n",
       "      <td>한화</td>\n",
       "      <td>LG</td>\n",
       "      <td>대전</td>\n",
       "      <td>11,748</td>\n",
       "    </tr>\n",
       "    <tr>\n",
       "      <th>551</th>\n",
       "      <td>2024/08/14</td>\n",
       "      <td>수</td>\n",
       "      <td>한화</td>\n",
       "      <td>LG</td>\n",
       "      <td>대전</td>\n",
       "      <td>11,884</td>\n",
       "    </tr>\n",
       "    <tr>\n",
       "      <th>555</th>\n",
       "      <td>2024/08/15</td>\n",
       "      <td>목</td>\n",
       "      <td>한화</td>\n",
       "      <td>LG</td>\n",
       "      <td>대전</td>\n",
       "      <td>12,000</td>\n",
       "    </tr>\n",
       "    <tr>\n",
       "      <th>558</th>\n",
       "      <td>2024/08/16</td>\n",
       "      <td>금</td>\n",
       "      <td>SSG</td>\n",
       "      <td>한화</td>\n",
       "      <td>문학</td>\n",
       "      <td>21,057</td>\n",
       "    </tr>\n",
       "  </tbody>\n",
       "</table>\n",
       "<p>77 rows × 6 columns</p>\n",
       "</div>"
      ],
      "text/plain": [
       "             날짜 요일    홈  방문  구장     관중수\n",
       "9    2024/03/26  화  SSG  한화  문학  10,541\n",
       "14   2024/03/27  수  SSG  한화  문학  11,005\n",
       "19   2024/03/28  목  SSG  한화  문학  11,755\n",
       "23   2024/03/29  금   한화  KT  대전  12,000\n",
       "38   2024/04/02  화   한화  롯데  대전  12,000\n",
       "..          ... ..  ...  ..  ..     ...\n",
       "535  2024/08/09  금   한화  키움  대전  11,302\n",
       "547  2024/08/13  화   한화  LG  대전  11,748\n",
       "551  2024/08/14  수   한화  LG  대전  11,884\n",
       "555  2024/08/15  목   한화  LG  대전  12,000\n",
       "558  2024/08/16  금  SSG  한화  문학  21,057\n",
       "\n",
       "[77 rows x 6 columns]"
      ]
     },
     "execution_count": 25,
     "metadata": {},
     "output_type": "execute_result"
    }
   ],
   "source": [
    "weekday_crowd = df[\n",
    "    ((df['요일'] != '토') & (df['요일'] != '일')) &\n",
    "    ((df['홈'] == '한화') | (df['방문'] == '한화'))\n",
    "]\n",
    "weekday_crowd"
   ]
  },
  {
   "cell_type": "code",
   "execution_count": 28,
   "metadata": {},
   "outputs": [
    {
     "name": "stderr",
     "output_type": "stream",
     "text": [
      "C:\\Users\\medici\\AppData\\Local\\Temp\\ipykernel_11728\\2178273203.py:1: SettingWithCopyWarning: \n",
      "A value is trying to be set on a copy of a slice from a DataFrame.\n",
      "Try using .loc[row_indexer,col_indexer] = value instead\n",
      "\n",
      "See the caveats in the documentation: https://pandas.pydata.org/pandas-docs/stable/user_guide/indexing.html#returning-a-view-versus-a-copy\n",
      "  weekday_crowd['관중수'] = weekday_crowd['관중수'].str.replace(',', '').astype(int)\n"
     ]
    }
   ],
   "source": [
    "weekday_crowd['관중수'] = weekday_crowd['관중수'].str.replace(',', '').astype(int)"
   ]
  },
  {
   "cell_type": "code",
   "execution_count": 29,
   "metadata": {},
   "outputs": [
    {
     "data": {
      "text/plain": [
       "np.float64(13485.142857142857)"
      ]
     },
     "execution_count": 29,
     "metadata": {},
     "output_type": "execute_result"
    }
   ],
   "source": [
    "weekday_crowd['관중수'].mean()"
   ]
  },
  {
   "cell_type": "code",
   "execution_count": 42,
   "metadata": {},
   "outputs": [
    {
     "data": {
      "text/plain": [
       "0      23750\n",
       "5      23750\n",
       "28     12000\n",
       "33     12000\n",
       "55     16000\n",
       "60     16000\n",
       "85     12000\n",
       "90     12000\n",
       "115    12000\n",
       "121    12000\n",
       "146    12000\n",
       "151    12000\n",
       "173    20500\n",
       "197    12000\n",
       "204    12000\n",
       "222    24000\n",
       "227    24000\n",
       "252    23000\n",
       "280    24000\n",
       "285    24000\n",
       "312    12000\n",
       "316    12000\n",
       "343    12000\n",
       "348    12000\n",
       "372    19085\n",
       "373    18860\n",
       "437    12000\n",
       "441    12000\n",
       "460    12000\n",
       "462    12000\n",
       "487    23750\n",
       "511    12000\n",
       "539    12000\n",
       "544    12000\n",
       "563    23000\n",
       "568    22545\n",
       "Name: 관중수, dtype: int64"
      ]
     },
     "execution_count": 42,
     "metadata": {},
     "output_type": "execute_result"
    }
   ],
   "source": [
    "weekend_crowd['관중수']"
   ]
  },
  {
   "cell_type": "code",
   "execution_count": 40,
   "metadata": {},
   "outputs": [
    {
     "ename": "AttributeError",
     "evalue": "Can only use .str accessor with string values!",
     "output_type": "error",
     "traceback": [
      "\u001b[1;31m---------------------------------------------------------------------------\u001b[0m",
      "\u001b[1;31mAttributeError\u001b[0m                            Traceback (most recent call last)",
      "Cell \u001b[1;32mIn[40], line 2\u001b[0m\n\u001b[0;32m      1\u001b[0m \u001b[38;5;66;03m# 쉼표를 제거하고 int로 변환\u001b[39;00m\n\u001b[1;32m----> 2\u001b[0m weekend_crowd[\u001b[38;5;124m'\u001b[39m\u001b[38;5;124m관중수\u001b[39m\u001b[38;5;124m'\u001b[39m] \u001b[38;5;241m=\u001b[39m \u001b[43mweekend_crowd\u001b[49m\u001b[43m[\u001b[49m\u001b[38;5;124;43m'\u001b[39;49m\u001b[38;5;124;43m관중수\u001b[39;49m\u001b[38;5;124;43m'\u001b[39;49m\u001b[43m]\u001b[49m\u001b[38;5;241;43m.\u001b[39;49m\u001b[43mstr\u001b[49m\u001b[38;5;241m.\u001b[39mreplace(\u001b[38;5;124m'\u001b[39m\u001b[38;5;124m,\u001b[39m\u001b[38;5;124m'\u001b[39m, \u001b[38;5;124m'\u001b[39m\u001b[38;5;124m'\u001b[39m)\u001b[38;5;241m.\u001b[39mastype(\u001b[38;5;28mfloat\u001b[39m)\n",
      "File \u001b[1;32mc:\\Users\\medici\\miniconda3\\envs\\dav\\Lib\\site-packages\\pandas\\core\\generic.py:6299\u001b[0m, in \u001b[0;36mNDFrame.__getattr__\u001b[1;34m(self, name)\u001b[0m\n\u001b[0;32m   6292\u001b[0m \u001b[38;5;28;01mif\u001b[39;00m (\n\u001b[0;32m   6293\u001b[0m     name \u001b[38;5;129;01mnot\u001b[39;00m \u001b[38;5;129;01min\u001b[39;00m \u001b[38;5;28mself\u001b[39m\u001b[38;5;241m.\u001b[39m_internal_names_set\n\u001b[0;32m   6294\u001b[0m     \u001b[38;5;129;01mand\u001b[39;00m name \u001b[38;5;129;01mnot\u001b[39;00m \u001b[38;5;129;01min\u001b[39;00m \u001b[38;5;28mself\u001b[39m\u001b[38;5;241m.\u001b[39m_metadata\n\u001b[0;32m   6295\u001b[0m     \u001b[38;5;129;01mand\u001b[39;00m name \u001b[38;5;129;01mnot\u001b[39;00m \u001b[38;5;129;01min\u001b[39;00m \u001b[38;5;28mself\u001b[39m\u001b[38;5;241m.\u001b[39m_accessors\n\u001b[0;32m   6296\u001b[0m     \u001b[38;5;129;01mand\u001b[39;00m \u001b[38;5;28mself\u001b[39m\u001b[38;5;241m.\u001b[39m_info_axis\u001b[38;5;241m.\u001b[39m_can_hold_identifiers_and_holds_name(name)\n\u001b[0;32m   6297\u001b[0m ):\n\u001b[0;32m   6298\u001b[0m     \u001b[38;5;28;01mreturn\u001b[39;00m \u001b[38;5;28mself\u001b[39m[name]\n\u001b[1;32m-> 6299\u001b[0m \u001b[38;5;28;01mreturn\u001b[39;00m \u001b[38;5;28;43mobject\u001b[39;49m\u001b[38;5;241;43m.\u001b[39;49m\u001b[38;5;21;43m__getattribute__\u001b[39;49m\u001b[43m(\u001b[49m\u001b[38;5;28;43mself\u001b[39;49m\u001b[43m,\u001b[49m\u001b[43m \u001b[49m\u001b[43mname\u001b[49m\u001b[43m)\u001b[49m\n",
      "File \u001b[1;32mc:\\Users\\medici\\miniconda3\\envs\\dav\\Lib\\site-packages\\pandas\\core\\accessor.py:224\u001b[0m, in \u001b[0;36mCachedAccessor.__get__\u001b[1;34m(self, obj, cls)\u001b[0m\n\u001b[0;32m    221\u001b[0m \u001b[38;5;28;01mif\u001b[39;00m obj \u001b[38;5;129;01mis\u001b[39;00m \u001b[38;5;28;01mNone\u001b[39;00m:\n\u001b[0;32m    222\u001b[0m     \u001b[38;5;66;03m# we're accessing the attribute of the class, i.e., Dataset.geo\u001b[39;00m\n\u001b[0;32m    223\u001b[0m     \u001b[38;5;28;01mreturn\u001b[39;00m \u001b[38;5;28mself\u001b[39m\u001b[38;5;241m.\u001b[39m_accessor\n\u001b[1;32m--> 224\u001b[0m accessor_obj \u001b[38;5;241m=\u001b[39m \u001b[38;5;28;43mself\u001b[39;49m\u001b[38;5;241;43m.\u001b[39;49m\u001b[43m_accessor\u001b[49m\u001b[43m(\u001b[49m\u001b[43mobj\u001b[49m\u001b[43m)\u001b[49m\n\u001b[0;32m    225\u001b[0m \u001b[38;5;66;03m# Replace the property with the accessor object. Inspired by:\u001b[39;00m\n\u001b[0;32m    226\u001b[0m \u001b[38;5;66;03m# https://www.pydanny.com/cached-property.html\u001b[39;00m\n\u001b[0;32m    227\u001b[0m \u001b[38;5;66;03m# We need to use object.__setattr__ because we overwrite __setattr__ on\u001b[39;00m\n\u001b[0;32m    228\u001b[0m \u001b[38;5;66;03m# NDFrame\u001b[39;00m\n\u001b[0;32m    229\u001b[0m \u001b[38;5;28mobject\u001b[39m\u001b[38;5;241m.\u001b[39m\u001b[38;5;21m__setattr__\u001b[39m(obj, \u001b[38;5;28mself\u001b[39m\u001b[38;5;241m.\u001b[39m_name, accessor_obj)\n",
      "File \u001b[1;32mc:\\Users\\medici\\miniconda3\\envs\\dav\\Lib\\site-packages\\pandas\\core\\strings\\accessor.py:191\u001b[0m, in \u001b[0;36mStringMethods.__init__\u001b[1;34m(self, data)\u001b[0m\n\u001b[0;32m    188\u001b[0m \u001b[38;5;28;01mdef\u001b[39;00m \u001b[38;5;21m__init__\u001b[39m(\u001b[38;5;28mself\u001b[39m, data) \u001b[38;5;241m-\u001b[39m\u001b[38;5;241m>\u001b[39m \u001b[38;5;28;01mNone\u001b[39;00m:\n\u001b[0;32m    189\u001b[0m     \u001b[38;5;28;01mfrom\u001b[39;00m \u001b[38;5;21;01mpandas\u001b[39;00m\u001b[38;5;21;01m.\u001b[39;00m\u001b[38;5;21;01mcore\u001b[39;00m\u001b[38;5;21;01m.\u001b[39;00m\u001b[38;5;21;01marrays\u001b[39;00m\u001b[38;5;21;01m.\u001b[39;00m\u001b[38;5;21;01mstring_\u001b[39;00m \u001b[38;5;28;01mimport\u001b[39;00m StringDtype\n\u001b[1;32m--> 191\u001b[0m     \u001b[38;5;28mself\u001b[39m\u001b[38;5;241m.\u001b[39m_inferred_dtype \u001b[38;5;241m=\u001b[39m \u001b[38;5;28;43mself\u001b[39;49m\u001b[38;5;241;43m.\u001b[39;49m\u001b[43m_validate\u001b[49m\u001b[43m(\u001b[49m\u001b[43mdata\u001b[49m\u001b[43m)\u001b[49m\n\u001b[0;32m    192\u001b[0m     \u001b[38;5;28mself\u001b[39m\u001b[38;5;241m.\u001b[39m_is_categorical \u001b[38;5;241m=\u001b[39m \u001b[38;5;28misinstance\u001b[39m(data\u001b[38;5;241m.\u001b[39mdtype, CategoricalDtype)\n\u001b[0;32m    193\u001b[0m     \u001b[38;5;28mself\u001b[39m\u001b[38;5;241m.\u001b[39m_is_string \u001b[38;5;241m=\u001b[39m \u001b[38;5;28misinstance\u001b[39m(data\u001b[38;5;241m.\u001b[39mdtype, StringDtype)\n",
      "File \u001b[1;32mc:\\Users\\medici\\miniconda3\\envs\\dav\\Lib\\site-packages\\pandas\\core\\strings\\accessor.py:245\u001b[0m, in \u001b[0;36mStringMethods._validate\u001b[1;34m(data)\u001b[0m\n\u001b[0;32m    242\u001b[0m inferred_dtype \u001b[38;5;241m=\u001b[39m lib\u001b[38;5;241m.\u001b[39minfer_dtype(values, skipna\u001b[38;5;241m=\u001b[39m\u001b[38;5;28;01mTrue\u001b[39;00m)\n\u001b[0;32m    244\u001b[0m \u001b[38;5;28;01mif\u001b[39;00m inferred_dtype \u001b[38;5;129;01mnot\u001b[39;00m \u001b[38;5;129;01min\u001b[39;00m allowed_types:\n\u001b[1;32m--> 245\u001b[0m     \u001b[38;5;28;01mraise\u001b[39;00m \u001b[38;5;167;01mAttributeError\u001b[39;00m(\u001b[38;5;124m\"\u001b[39m\u001b[38;5;124mCan only use .str accessor with string values!\u001b[39m\u001b[38;5;124m\"\u001b[39m)\n\u001b[0;32m    246\u001b[0m \u001b[38;5;28;01mreturn\u001b[39;00m inferred_dtype\n",
      "\u001b[1;31mAttributeError\u001b[0m: Can only use .str accessor with string values!"
     ]
    }
   ],
   "source": [
    "# 쉼표를 제거하고 int로 변환\n",
    "weekend_crowd['관중수'] = weekend_crowd['관중수'].str.replace(',', '').astype(float)"
   ]
  },
  {
   "cell_type": "code",
   "execution_count": 31,
   "metadata": {},
   "outputs": [
    {
     "data": {
      "text/plain": [
       "np.float64(16062.222222222223)"
      ]
     },
     "execution_count": 31,
     "metadata": {},
     "output_type": "execute_result"
    }
   ],
   "source": [
    "weekend_crowd['관중수'].mean()"
   ]
  },
  {
   "cell_type": "code",
   "execution_count": null,
   "metadata": {},
   "outputs": [],
   "source": [
    "from scipy import stats\n",
    "t, pvalue = stats.ttend_ind()"
   ]
  },
  {
   "cell_type": "code",
   "execution_count": 20,
   "metadata": {},
   "outputs": [
    {
     "data": {
      "text/plain": [
       "np.int64(3271256)"
      ]
     },
     "execution_count": 20,
     "metadata": {},
     "output_type": "execute_result"
    }
   ],
   "source": [
    "total_crowd = weekend_crowd['관중수'].sum()\n",
    "total_crowd"
   ]
  },
  {
   "cell_type": "code",
   "execution_count": 31,
   "metadata": {},
   "outputs": [
    {
     "name": "stdout",
     "output_type": "stream",
     "text": [
      "Weekend group 관중수 표준편차: 4883.1584\n",
      "Weekday group 관중수 표준편차: 5339.8006\n"
     ]
    }
   ],
   "source": [
    "# Weekend group의 관중수 평균의 표준편차\n",
    "weekend_std = weekend_crowd['관중수'].std()\n",
    "\n",
    "# Weekday group의 관중수 평균의 표준편차\n",
    "weekday_std = weekday_crowd['관중수'].std()\n",
    "\n",
    "print(f\"Weekend group 관중수 표준편차: {weekend_std:.4f}\")\n",
    "print(f\"Weekday group 관중수 표준편차: {weekday_std:.4f}\")\n"
   ]
  },
  {
   "cell_type": "code",
   "execution_count": 33,
   "metadata": {},
   "outputs": [
    {
     "data": {
      "image/png": "[encoded data removed]",
      "text/plain": [
       "<Figure size 1200x600 with 2 Axes>"
      ]
     },
     "metadata": {},
     "output_type": "display_data"
    }
   ],
   "source": [
    "import matplotlib.pyplot as plt\n",
    "\n",
    "# 샘플 평균을 저장할 리스트\n",
    "weekend_sample_means = []\n",
    "weekday_sample_means = []\n",
    "\n",
    "# 주말 관중수에서 10개 샘플 평균 5000회 추출\n",
    "for _ in range(5000):\n",
    "    m = weekend_crowd['관중수'].sample(20).mean()\n",
    "    weekend_sample_means.append(m)\n",
    "\n",
    "# 주중 관중수에서 10개 샘플 평균 5000회 추출\n",
    "for _ in range(5000):\n",
    "    m = weekday_crowd['관중수'].sample(20).mean()\n",
    "    weekday_sample_means.append(m)\n",
    "\n",
    "# 히스토그램 시각화\n",
    "plt.figure(figsize=(12, 6))\n",
    "\n",
    "# 주말 샘플 평균 히스토그램\n",
    "plt.subplot(1, 2, 1)\n",
    "plt.hist(weekend_sample_means, bins=30, color='skyblue', edgecolor='black')\n",
    "plt.title('Weekend Sample Means Distribution')\n",
    "plt.xlabel('Sample Mean')\n",
    "plt.ylabel('Frequency')\n",
    "\n",
    "# 주중 샘플 평균 히스토그램\n",
    "plt.subplot(1, 2, 2)\n",
    "plt.hist(weekday_sample_means, bins=30, color='lightgreen', edgecolor='black')\n",
    "plt.title('Weekday Sample Means Distribution')\n",
    "plt.xlabel('Sample Mean')\n",
    "plt.ylabel('Frequency')\n",
    "\n",
    "plt.tight_layout()\n",
    "plt.show()\n"
   ]
  },
  {
   "cell_type": "code",
   "execution_count": 34,
   "metadata": {},
   "outputs": [
    {
     "name": "stdout",
     "output_type": "stream",
     "text": [
      "t-statistic: 2.6769\n",
      "p-value: 0.0086\n",
      "두 집단의 평균 차이가 통계적으로 유의합니다.\n"
     ]
    }
   ],
   "source": [
    "from scipy import stats\n",
    "\n",
    "# 주말과 주중의 '관중수' 평균 차이를 검정\n",
    "t_stat, p_value = stats.ttest_ind(weekend_crowd['관중수'], weekday_crowd['관중수'], equal_var=True)\n",
    "\n",
    "print(f\"t-statistic: {t_stat:.4f}\")\n",
    "print(f\"p-value: {p_value:.4f}\")\n",
    "\n",
    "# 결과 해석\n",
    "alpha = 0.05\n",
    "if p_value < alpha:\n",
    "    print(\"두 집단의 평균 차이가 통계적으로 유의합니다.\")\n",
    "else:\n",
    "    print(\"두 집단의 평균 차이가 통계적으로 유의하지 않습니다.\")\n"
   ]
  },
  {
   "cell_type": "code",
   "execution_count": 39,
   "metadata": {},
   "outputs": [
    {
     "name": "stderr",
     "output_type": "stream",
     "text": [
      "C:\\Users\\medici\\AppData\\Local\\Temp\\ipykernel_11728\\457800114.py:17: FutureWarning: \n",
      "\n",
      "Passing `palette` without assigning `hue` is deprecated and will be removed in v0.14.0. Assign the `x` variable to `hue` and set `legend=False` for the same effect.\n",
      "\n",
      "  sns.barplot(x=['주중', '주말'], y=[weekday_mean, weekend_mean], palette='pastel',width=0.5)\n"
     ]
    },
    {
     "data": {
      "image/png": "[encoded data removed]",
      "text/plain": [
       "<Figure size 1000x600 with 1 Axes>"
      ]
     },
     "metadata": {},
     "output_type": "display_data"
    }
   ],
   "source": [
    "import matplotlib.pyplot as plt\n",
    "import seaborn as sns\n",
    "from scipy import stats\n",
    "\n",
    "# 가정: weekend_crowd와 weekday_crowd 데이터프레임이 이미 존재하며, '관중수' 열이 정수형으로 변환되어 있음\n",
    "\n",
    "# t-test를 수행하여 두 그룹 간의 평균 차이를 검정\n",
    "t, pvalue = stats.ttest_ind(weekday_crowd['관중수'], weekend_crowd['관중수'], equal_var=False)\n",
    "\n",
    "# 평균값 계산\n",
    "weekday_mean = weekday_crowd['관중수'].mean()\n",
    "weekend_mean = weekend_crowd['관중수'].mean()\n",
    "\n",
    "\n",
    "# 결과를 그래프로 시각화\n",
    "plt.figure(figsize=(10, 6))\n",
    "sns.barplot(x=['주중', '주말'], y=[weekday_mean, weekend_mean], palette='pastel',width=0.5)\n",
    "\n",
    "# 그래프에 t-value와 p-value 표시\n",
    "plt.title(f'주중/주말 관중 수 평균 비교')\n",
    "plt.ylabel('관중 수 평균')\n",
    "plt.ylim(0, 18000)\n",
    "plt.show()\n"
   ]
  }
 ],
 "metadata": {
  "kernelspec": {
   "display_name": "dav",
   "language": "python",
   "name": "python3"
  },
  "language_info": {
   "codemirror_mode": {
    "name": "ipython",
    "version": 3
   },
   "file_extension": ".py",
   "mimetype": "text/x-python",
   "name": "python",
   "nbconvert_exporter": "python",
   "pygments_lexer": "ipython3",
   "version": "3.12.4"
  }
 },
 "nbformat": 4,
 "nbformat_minor": 2
}
